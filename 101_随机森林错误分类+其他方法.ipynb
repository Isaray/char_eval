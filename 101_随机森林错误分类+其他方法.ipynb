{
 "cells": [
  {
   "cell_type": "code",
   "execution_count": 1,
   "metadata": {},
   "outputs": [],
   "source": [
    "import pandas as pd \n",
    "import numpy as np\n",
    "import sklearn as sk \n",
    "import matplotlib.pyplot as plt\n",
    "import json\n",
    "import Module.Conn as conn \n",
    "import Module.GetDataSet as getdataset \n",
    "from Module.DotClass import *\n",
    "import random\n",
    "random.seed(0)"
   ]
  },
  {
   "cell_type": "code",
   "execution_count": 2,
   "metadata": {},
   "outputs": [
    {
     "ename": "NameError",
     "evalue": "name 'getdataset' is not defined",
     "output_type": "error",
     "traceback": [
      "\u001b[1;31m---------------------------------------------------------------------------\u001b[0m",
      "\u001b[1;31mNameError\u001b[0m                                 Traceback (most recent call last)",
      "\u001b[1;32m~\\AppData\\Local\\Temp/ipykernel_18012/54652950.py\u001b[0m in \u001b[0;36m<module>\u001b[1;34m\u001b[0m\n\u001b[0;32m      1\u001b[0m \u001b[1;31m#read data\u001b[0m\u001b[1;33m\u001b[0m\u001b[1;33m\u001b[0m\u001b[1;33m\u001b[0m\u001b[0m\n\u001b[1;32m----> 2\u001b[1;33m \u001b[0mstandard_df\u001b[0m\u001b[1;33m=\u001b[0m\u001b[0mgetdataset\u001b[0m\u001b[1;33m.\u001b[0m\u001b[0mget_standard_dataset\u001b[0m\u001b[1;33m(\u001b[0m\u001b[1;33m)\u001b[0m\u001b[1;33m\u001b[0m\u001b[1;33m\u001b[0m\u001b[0m\n\u001b[0m\u001b[0;32m      3\u001b[0m \u001b[1;31m# work_df=getdataset.get_work_dataset()\u001b[0m\u001b[1;33m\u001b[0m\u001b[1;33m\u001b[0m\u001b[1;33m\u001b[0m\u001b[0m\n",
      "\u001b[1;31mNameError\u001b[0m: name 'getdataset' is not defined"
     ]
    }
   ],
   "source": [
    "#read data\n",
    "standard_df=getdataset.get_standard_dataset()\n",
    "# work_df=getdataset.get_work_dataset()"
   ]
  },
  {
   "cell_type": "code",
   "execution_count": 4,
   "metadata": {},
   "outputs": [],
   "source": [
    "# 五折训练集和测试集数据\n",
    "from sklearn.model_selection import train_test_split\n",
    "idlist=list(set(standard_df.id))\n",
    "idlist_train,idlist_test = train_test_split(idlist,train_size=0.8,random_state =0)\n",
    "train_df=standard_df[standard_df.id.isin(idlist_train)]\n",
    "test_df=standard_df[standard_df.id.isin(idlist_test)]"
   ]
  },
  {
   "cell_type": "code",
   "execution_count": 5,
   "metadata": {},
   "outputs": [
    {
     "name": "stderr",
     "output_type": "stream",
     "text": [
      "E:\\科研\\规范汉字评价模型\\code\\Module\\DotClass.py:143: RuntimeWarning: invalid value encountered in arccos\n",
      "  arccos = np.arccos(vector_dot_product / (np.linalg.norm(v1) * np.linalg.norm(v2)))\n"
     ]
    }
   ],
   "source": [
    "# 先看传统机器学习算法\n",
    "#构造特征表\n",
    "total_stroke=[]\n",
    "total_simple_stroke=[]\n",
    "width_list=[]\n",
    "length_list=[]\n",
    "ratio_list=[]\n",
    "label_list=[]\n",
    "dot_count_list=[]\n",
    "dotdist_list=[]\n",
    "angle_list=[]\n",
    "data=standard_df\n",
    "for k in range(len(data)):\n",
    "    t=Stroke(data['trajectory'].iloc[k],data['label'].iloc[k])\n",
    "    total_stroke.append(t)\n",
    "    total_simple_stroke.append(t.simple_dot)\n",
    "    dot_count_list.append(len(t.simple_dot))\n",
    "    dotdist_list.append(t.dotdist_list)\n",
    "#     if t.angle_list\n",
    "    angle_list.append(t.angle_list)\n",
    "    k=t.get_width_length_ratio()\n",
    "    width_list.append(k[0])\n",
    "    length_list.append(k[1])\n",
    "    ratio_list.append(k[2])\n",
    "    label_list.append(t.get_label())\n",
    "dotdist_list_count=[len(i) for i in dotdist_list]\n",
    "dotdist_list_max=[max(i) for i in dotdist_list]\n",
    "dotdist_list_min=[min(i) for i in dotdist_list]\n",
    "dotdist_list_median=[np.median(i) for i in dotdist_list] \n",
    "angle_list_max=[max(i) for i in angle_list]\n",
    "angle_list_min=[min(i) for i in angle_list]\n",
    "angle_list_median=[np.median(i) for i in angle_list] \n",
    "angle_list_90=[close90(i) for i in angle_list] \n"
   ]
  },
  {
   "cell_type": "code",
   "execution_count": 6,
   "metadata": {},
   "outputs": [],
   "source": [
    "df=pd.DataFrame([label_list,data.id,width_list,length_list,ratio_list,dotdist_list_count,dotdist_list_max,dotdist_list_min,dotdist_list_median,angle_list_max,angle_list_min,angle_list_median,angle_list_90]).T\n",
    "df.columns=[\"label\",\"id\",\"width\",\"height\",\"ratio_w_h\",\"dotdist_count\",\"dotdist_max\",\"dotdist_min\",\"dotdist_median\",\"angle_max\",\"angle_min\",\"angle_median\",\"angle_90\"]\n",
    "df=df.fillna(0)\n",
    "train_ml=df[df.id.isin(idlist_train)]\n",
    "test_ml=df[df.id.isin(idlist_test)]"
   ]
  },
  {
   "cell_type": "code",
   "execution_count": 10,
   "metadata": {},
   "outputs": [],
   "source": [
    "# 多个分类器的比较\n",
    "# https://blog.csdn.net/TiffanyRabbit/article/details/76574009\n",
    "from sklearn.ensemble import RandomForestClassifier\n",
    "import sklearn.tree as sk_tree\n",
    "import sklearn.linear_model as sk_linear\n",
    "import sklearn.naive_bayes as sk_bayes\n",
    "import sklearn.neighbors as sk_neighbors\n",
    "import sklearn.svm as sk_svm\n",
    "import sklearn.neural_network as sk_nn\n",
    "from sklearn.metrics import roc_auc_score,roc_curve\n",
    "from sklearn.model_selection import cross_val_score\n",
    "from sklearn.model_selection import GridSearchCV\n",
    "from sklearn.model_selection import LeaveOneOut\n",
    "\n",
    "\n",
    "def get_acc_list(colist,name):\n",
    "    X=mytotal[colist]\n",
    "    Y=mytotal[name]\n",
    "    method_list=[\"随机森林模型\"]\n",
    "    acc_auc_list=[]\n",
    "    def train_and_score(colist,name,model,modelname):\n",
    "        X=mytotal[colist]\n",
    "        Y=mytotal[name]\n",
    "        print(\"Y\",len(Y),name)\n",
    "        acc=cross_val_score(model,X,Y,cv=5)\n",
    "        print(acc) \n",
    "        acc=np.mean(acc)\n",
    "        print('{}评价:'.format(modelname),acc)\n",
    "        return acc \n",
    "\n",
    "\n",
    "    model = RandomForestClassifier() \n",
    "#     gb_param_grid = {'criterion' : [\"gini\", \"entropy\"],\n",
    "#                   'n_estimators': [50,100,200],\n",
    "#                   }\n",
    "#     grid_search = GridSearchCV(model,param_grid = gb_param_grid, cv=5,scoring=\"accuracy\", n_jobs= -1, verbose = 1)\n",
    "#     grid_result=grid_search.fit(X,Y)\n",
    "#     params=grid_search.best_params_ \n",
    "    model = RandomForestClassifier(criterion=\"entropy\", n_estimators=50,random_state=0)\n",
    "    acc_auc_list.append(train_and_score(colist,name,model,method_list[0]))\n",
    "#     print(params)\n",
    "\n",
    "\n",
    "    return acc_auc_list"
   ]
  },
  {
   "cell_type": "code",
   "execution_count": 11,
   "metadata": {
    "scrolled": true
   },
   "outputs": [
    {
     "name": "stdout",
     "output_type": "stream",
     "text": [
      "Y 19657 label\n"
     ]
    },
    {
     "name": "stderr",
     "output_type": "stream",
     "text": [
      "d:\\users\\lenovo\\appdata\\local\\programs\\python\\python37\\lib\\site-packages\\sklearn\\model_selection\\_split.py:680: UserWarning: The least populated class in y has only 4 members, which is less than n_splits=5.\n",
      "  UserWarning,\n"
     ]
    },
    {
     "name": "stdout",
     "output_type": "stream",
     "text": [
      "[0.86164802 0.87131231 0.87331468 0.86695497 0.85627067]\n",
      "随机森林模型评价: 0.8659001292126414\n"
     ]
    }
   ],
   "source": [
    "mytotal=df\n",
    "drop_list=[\"label\",\"id\"]\n",
    "colist=[]\n",
    "for i in mytotal.columns:\n",
    "    if  i not in drop_list: \n",
    "        colist.append(i)\n",
    "\n",
    "total=[]\n",
    "total.append(get_acc_list(colist,name='label'))\n",
    "method_list=[\"随机森林模型\"]\n",
    "t=[\"label\"]\n",
    "d=pd.DataFrame(total,index=t,columns=method_list)\n"
   ]
  },
  {
   "cell_type": "code",
   "execution_count": 12,
   "metadata": {},
   "outputs": [
    {
     "name": "stdout",
     "output_type": "stream",
     "text": [
      "train acc: 0.9998730642294998 test acc: 0.8687516021532941\n",
      "train macro f1: 0.9999331771899063 test macro f1: 0.6137876170933183\n"
     ]
    }
   ],
   "source": [
    "from sklearn.metrics import accuracy_score,f1_score\n",
    "\n",
    "model = RandomForestClassifier(criterion=\"entropy\", n_estimators=50,random_state=0)\n",
    "# 相同的训练集和测试集上模型准确率\n",
    "#关于macro-f1 https://blog.csdn.net/qq_43190189/article/details/105778058\n",
    "x_train_ml=train_ml[colist]\n",
    "y_train_ml=train_ml['label']\n",
    "x_test_ml=test_ml[colist]\n",
    "y_test_ml=test_ml['label']\n",
    "model.fit(x_train_ml[colist],y_train_ml)\n",
    "y_train_ml_res=model.predict(train_ml[colist])\n",
    "y_test_ml_res=model.predict(test_ml[colist])\n",
    "train_ml_acc=accuracy_score(y_train_ml_res,y_train_ml)\n",
    "test_ml_acc=accuracy_score(y_test_ml_res,y_test_ml)\n",
    "train_ml_f1=f1_score(y_train_ml_res,y_train_ml,average='macro')\n",
    "test_ml_f1=f1_score(y_test_ml_res,y_test_ml,average='macro')\n",
    "print('train acc:',train_ml_acc,'test acc:',test_ml_acc)\n",
    "print('train macro f1:',train_ml_f1,'test macro f1:',test_ml_f1)"
   ]
  },
  {
   "cell_type": "code",
   "execution_count": 14,
   "metadata": {},
   "outputs": [
    {
     "name": "stdout",
     "output_type": "stream",
     "text": [
      "test acc: 0.8687516021532941\n"
     ]
    }
   ],
   "source": [
    "import pickle\n",
    "#save model\n",
    "f = open('model/rfc.pickle','wb')\n",
    "pickle.dump(model,f)\n",
    "f.close()\n",
    "#load model\n",
    "f = open('model/rfc.pickle','rb')\n",
    "rfc1 = pickle.load(f)\n",
    "f.close()\n",
    "y_test_ml_res2=rfc1.predict(x_test_ml)\n",
    "test_ml_acc=accuracy_score(y_test_ml_res2,y_test_ml)\n",
    "print('test acc:',test_ml_acc)"
   ]
  },
  {
   "cell_type": "code",
   "execution_count": null,
   "metadata": {},
   "outputs": [],
   "source": []
  },
  {
   "cell_type": "code",
   "execution_count": 70,
   "metadata": {},
   "outputs": [
    {
     "name": "stdout",
     "output_type": "stream",
     "text": [
      "这是文件中的json数据： "
     ]
    },
    {
     "name": "stderr",
     "output_type": "stream",
     "text": [
      "IOPub data rate exceeded.\n",
      "The notebook server will temporarily stop sending output\n",
      "to the client in order to avoid crashing it.\n",
      "To change this limit, set the config variable\n",
      "`--NotebookApp.iopub_data_rate_limit`.\n",
      "\n",
      "Current values:\n",
      "NotebookApp.iopub_data_rate_limit=1000000.0 (bytes/sec)\n",
      "NotebookApp.rate_limit_window=3.0 (secs)\n",
      "\n"
     ]
    }
   ],
   "source": [
    "# 跑CNN模型，得到f1 结果\n",
    "import json \n",
    "with open('data/predict_topk_standard.json','r',encoding='utf8')as fp:\n",
    "    json_data = json.load(fp)\n",
    "    print('这是文件中的json数据：',json_data)\n",
    "    print('这是读取到文件数据的数据类型：', type(json_data))\n",
    "# json.load()"
   ]
  },
  {
   "cell_type": "code",
   "execution_count": 72,
   "metadata": {},
   "outputs": [
    {
     "data": {
      "text/html": [
       "<div>\n",
       "<style scoped>\n",
       "    .dataframe tbody tr th:only-of-type {\n",
       "        vertical-align: middle;\n",
       "    }\n",
       "\n",
       "    .dataframe tbody tr th {\n",
       "        vertical-align: top;\n",
       "    }\n",
       "\n",
       "    .dataframe thead th {\n",
       "        text-align: right;\n",
       "    }\n",
       "</style>\n",
       "<table border=\"1\" class=\"dataframe\">\n",
       "  <thead>\n",
       "    <tr style=\"text-align: right;\">\n",
       "      <th></th>\n",
       "      <th>trajectory</th>\n",
       "      <th>label</th>\n",
       "      <th>id</th>\n",
       "      <th>seq</th>\n",
       "      <th>ch</th>\n",
       "      <th>key</th>\n",
       "      <th>num</th>\n",
       "      <th>predict</th>\n",
       "      <th>seq_real</th>\n",
       "    </tr>\n",
       "  </thead>\n",
       "  <tbody>\n",
       "    <tr>\n",
       "      <th>0</th>\n",
       "      <td>[{\"ab_x\": 17.202380620361396, \"ab_y\": 52.13335...</td>\n",
       "      <td>横折折折钩/横撇弯钩</td>\n",
       "      <td>61c2b7e0c0766b5221b5394c</td>\n",
       "      <td>1</td>\n",
       "      <td>阿</td>\n",
       "      <td>1</td>\n",
       "      <td>7</td>\n",
       "      <td>[{'label': '横折折折钩/横撇弯钩', 'logit': 0.9969156980...</td>\n",
       "      <td>1</td>\n",
       "    </tr>\n",
       "    <tr>\n",
       "      <th>1</th>\n",
       "      <td>[{\"ab_x\": 23.352776399687997, \"ab_y\": 50.14687...</td>\n",
       "      <td>竖</td>\n",
       "      <td>61c2b7e0c0766b5221b5394c</td>\n",
       "      <td>2</td>\n",
       "      <td>阿</td>\n",
       "      <td>1</td>\n",
       "      <td>7</td>\n",
       "      <td>[{'label': '竖', 'logit': 0.8693052530288696}, ...</td>\n",
       "      <td>2</td>\n",
       "    </tr>\n",
       "    <tr>\n",
       "      <th>2</th>\n",
       "      <td>[{\"ab_x\": 33.95378601704408, \"ab_y\": 54.222562...</td>\n",
       "      <td>横</td>\n",
       "      <td>61c2b7e0c0766b5221b5394c</td>\n",
       "      <td>3</td>\n",
       "      <td>阿</td>\n",
       "      <td>1</td>\n",
       "      <td>7</td>\n",
       "      <td>[{'label': '横', 'logit': 0.9999420642852783}, ...</td>\n",
       "      <td>3</td>\n",
       "    </tr>\n",
       "    <tr>\n",
       "      <th>3</th>\n",
       "      <td>[{\"ab_x\": 38.70569152568106, \"ab_y\": 60.340967...</td>\n",
       "      <td>竖</td>\n",
       "      <td>61c2b7e0c0766b5221b5394c</td>\n",
       "      <td>4</td>\n",
       "      <td>阿</td>\n",
       "      <td>1</td>\n",
       "      <td>7</td>\n",
       "      <td>[{'label': '竖', 'logit': 0.9654157161712646}, ...</td>\n",
       "      <td>4</td>\n",
       "    </tr>\n",
       "    <tr>\n",
       "      <th>4</th>\n",
       "      <td>[{\"ab_x\": 39.31614391218443, \"ab_y\": 61.314162...</td>\n",
       "      <td>横折</td>\n",
       "      <td>61c2b7e0c0766b5221b5394c</td>\n",
       "      <td>5</td>\n",
       "      <td>阿</td>\n",
       "      <td>1</td>\n",
       "      <td>7</td>\n",
       "      <td>[{'label': '横折', 'logit': 0.9899035692214966},...</td>\n",
       "      <td>5</td>\n",
       "    </tr>\n",
       "    <tr>\n",
       "      <th>...</th>\n",
       "      <td>...</td>\n",
       "      <td>...</td>\n",
       "      <td>...</td>\n",
       "      <td>...</td>\n",
       "      <td>...</td>\n",
       "      <td>...</td>\n",
       "      <td>...</td>\n",
       "      <td>...</td>\n",
       "      <td>...</td>\n",
       "    </tr>\n",
       "    <tr>\n",
       "      <th>19652</th>\n",
       "      <td>[{\"ab_x\": 35.76188390120487, \"ab_y\": 78.036063...</td>\n",
       "      <td>横</td>\n",
       "      <td>6107cceea11a58c6dbb96b42</td>\n",
       "      <td>7</td>\n",
       "      <td>做</td>\n",
       "      <td>1</td>\n",
       "      <td>11</td>\n",
       "      <td>[{'label': '横', 'logit': 0.9996292591094971}, ...</td>\n",
       "      <td>7</td>\n",
       "    </tr>\n",
       "    <tr>\n",
       "      <th>19653</th>\n",
       "      <td>[{\"ab_x\": 54.50604757126203, \"ab_y\": 41.264314...</td>\n",
       "      <td>撇</td>\n",
       "      <td>6107cceea11a58c6dbb96b42</td>\n",
       "      <td>8</td>\n",
       "      <td>做</td>\n",
       "      <td>1</td>\n",
       "      <td>11</td>\n",
       "      <td>[{'label': '撇', 'logit': 0.9935024380683899}, ...</td>\n",
       "      <td>8</td>\n",
       "    </tr>\n",
       "    <tr>\n",
       "      <th>19654</th>\n",
       "      <td>[{\"ab_x\": 50.21932889659931, \"ab_y\": 62.015418...</td>\n",
       "      <td>横</td>\n",
       "      <td>6107cceea11a58c6dbb96b42</td>\n",
       "      <td>9</td>\n",
       "      <td>做</td>\n",
       "      <td>1</td>\n",
       "      <td>11</td>\n",
       "      <td>[{'label': '横', 'logit': 0.9998260140419006}, ...</td>\n",
       "      <td>9</td>\n",
       "    </tr>\n",
       "    <tr>\n",
       "      <th>19655</th>\n",
       "      <td>[{\"ab_x\": 56.88941086381243, \"ab_y\": 59.053125...</td>\n",
       "      <td>撇</td>\n",
       "      <td>6107cceea11a58c6dbb96b42</td>\n",
       "      <td>10</td>\n",
       "      <td>做</td>\n",
       "      <td>1</td>\n",
       "      <td>11</td>\n",
       "      <td>[{'label': '撇', 'logit': 0.999316930770874}, {...</td>\n",
       "      <td>10</td>\n",
       "    </tr>\n",
       "    <tr>\n",
       "      <th>19656</th>\n",
       "      <td>[{\"ab_x\": 50.98859091492895, \"ab_y\": 68.324881...</td>\n",
       "      <td>捺</td>\n",
       "      <td>6107cceea11a58c6dbb96b42</td>\n",
       "      <td>11</td>\n",
       "      <td>做</td>\n",
       "      <td>1</td>\n",
       "      <td>11</td>\n",
       "      <td>[{'label': '捺', 'logit': 0.9893568158149719}, ...</td>\n",
       "      <td>11</td>\n",
       "    </tr>\n",
       "  </tbody>\n",
       "</table>\n",
       "<p>19657 rows × 9 columns</p>\n",
       "</div>"
      ],
      "text/plain": [
       "                                              trajectory       label  \\\n",
       "0      [{\"ab_x\": 17.202380620361396, \"ab_y\": 52.13335...  横折折折钩/横撇弯钩   \n",
       "1      [{\"ab_x\": 23.352776399687997, \"ab_y\": 50.14687...           竖   \n",
       "2      [{\"ab_x\": 33.95378601704408, \"ab_y\": 54.222562...           横   \n",
       "3      [{\"ab_x\": 38.70569152568106, \"ab_y\": 60.340967...           竖   \n",
       "4      [{\"ab_x\": 39.31614391218443, \"ab_y\": 61.314162...          横折   \n",
       "...                                                  ...         ...   \n",
       "19652  [{\"ab_x\": 35.76188390120487, \"ab_y\": 78.036063...           横   \n",
       "19653  [{\"ab_x\": 54.50604757126203, \"ab_y\": 41.264314...           撇   \n",
       "19654  [{\"ab_x\": 50.21932889659931, \"ab_y\": 62.015418...           横   \n",
       "19655  [{\"ab_x\": 56.88941086381243, \"ab_y\": 59.053125...           撇   \n",
       "19656  [{\"ab_x\": 50.98859091492895, \"ab_y\": 68.324881...           捺   \n",
       "\n",
       "                             id  seq ch  key  num  \\\n",
       "0      61c2b7e0c0766b5221b5394c    1  阿    1    7   \n",
       "1      61c2b7e0c0766b5221b5394c    2  阿    1    7   \n",
       "2      61c2b7e0c0766b5221b5394c    3  阿    1    7   \n",
       "3      61c2b7e0c0766b5221b5394c    4  阿    1    7   \n",
       "4      61c2b7e0c0766b5221b5394c    5  阿    1    7   \n",
       "...                         ...  ... ..  ...  ...   \n",
       "19652  6107cceea11a58c6dbb96b42    7  做    1   11   \n",
       "19653  6107cceea11a58c6dbb96b42    8  做    1   11   \n",
       "19654  6107cceea11a58c6dbb96b42    9  做    1   11   \n",
       "19655  6107cceea11a58c6dbb96b42   10  做    1   11   \n",
       "19656  6107cceea11a58c6dbb96b42   11  做    1   11   \n",
       "\n",
       "                                                 predict  seq_real  \n",
       "0      [{'label': '横折折折钩/横撇弯钩', 'logit': 0.9969156980...         1  \n",
       "1      [{'label': '竖', 'logit': 0.8693052530288696}, ...         2  \n",
       "2      [{'label': '横', 'logit': 0.9999420642852783}, ...         3  \n",
       "3      [{'label': '竖', 'logit': 0.9654157161712646}, ...         4  \n",
       "4      [{'label': '横折', 'logit': 0.9899035692214966},...         5  \n",
       "...                                                  ...       ...  \n",
       "19652  [{'label': '横', 'logit': 0.9996292591094971}, ...         7  \n",
       "19653  [{'label': '撇', 'logit': 0.9935024380683899}, ...         8  \n",
       "19654  [{'label': '横', 'logit': 0.9998260140419006}, ...         9  \n",
       "19655  [{'label': '撇', 'logit': 0.999316930770874}, {...        10  \n",
       "19656  [{'label': '捺', 'logit': 0.9893568158149719}, ...        11  \n",
       "\n",
       "[19657 rows x 9 columns]"
      ]
     },
     "execution_count": 72,
     "metadata": {},
     "output_type": "execute_result"
    }
   ],
   "source": [
    "# 错误类型找到字 \n",
    "model_res=pd.DataFrame(json_data)\n",
    "# model_res.join(standard_df,on=['id','seq'],how='right')\n",
    "# model_res.predict\n",
    "standard_df1=standard_df.copy()\n",
    "standard_df1['key']=1 \n",
    "standard_df1['num']=standard_df1.apply(lambda x:standard_df1[standard_df1.id==x.id].id.count(),axis=1)\n",
    "standard_df1['predict']=model_res.predict\n",
    "standard_df1['seq_real']=standard_df1.seq.copy()\n",
    "standard_df1"
   ]
  },
  {
   "cell_type": "code",
   "execution_count": 74,
   "metadata": {},
   "outputs": [],
   "source": [
    "pred=[]\n",
    "for i in range(len(standard_df1)):\n",
    "    p=standard_df1.iloc[i]['predict'][0]['label']\n",
    "    pred.append(p)\n",
    "   \n",
    "    \n",
    "standard_df1['pred']=pred"
   ]
  },
  {
   "cell_type": "code",
   "execution_count": 77,
   "metadata": {},
   "outputs": [
    {
     "name": "stdout",
     "output_type": "stream",
     "text": [
      "train acc: 0.9427122940430925 test acc: 0.917856352232208\n"
     ]
    }
   ],
   "source": [
    "t=standard_df1[standard_df1.id.isin(idlist_test)]\n",
    "y=t.label\n",
    "yhat=t.pred\n",
    "acc=accuracy_score(yhat,y)\n",
    "f1=f1_score(yhat,y,average='macro')\n",
    "print('train acc:',acc,'test acc:',f1)\n",
    "# print('train macro f1:',train_ml_f1,'test macro f1:',test_ml_f1)"
   ]
  },
  {
   "cell_type": "code",
   "execution_count": null,
   "metadata": {},
   "outputs": [],
   "source": [
    "#封装几种算法，数据预先处理\n",
    "model_res"
   ]
  },
  {
   "cell_type": "code",
   "execution_count": null,
   "metadata": {},
   "outputs": [],
   "source": [
    "# 错误的数据集合上找到的错误。 \n",
    "df"
   ]
  },
  {
   "cell_type": "code",
   "execution_count": null,
   "metadata": {},
   "outputs": [],
   "source": [
    "# 找到错误的比例。\n",
    "# 随机找到一个笔画"
   ]
  },
  {
   "cell_type": "code",
   "execution_count": null,
   "metadata": {},
   "outputs": [],
   "source": [
    "# 笔画分类验证，精确到类别\n"
   ]
  },
  {
   "cell_type": "code",
   "execution_count": null,
   "metadata": {},
   "outputs": [],
   "source": [
    "# 构造错误分类数据集\n"
   ]
  },
  {
   "cell_type": "code",
   "execution_count": null,
   "metadata": {},
   "outputs": [],
   "source": [
    "# 构造对应关系的模型\n"
   ]
  },
  {
   "cell_type": "code",
   "execution_count": null,
   "metadata": {},
   "outputs": [],
   "source": []
  }
 ],
 "metadata": {
  "hide_input": false,
  "kernelspec": {
   "display_name": "Python 3 (ipykernel)",
   "language": "python",
   "name": "python3"
  },
  "language_info": {
   "codemirror_mode": {
    "name": "ipython",
    "version": 3
   },
   "file_extension": ".py",
   "mimetype": "text/x-python",
   "name": "python",
   "nbconvert_exporter": "python",
   "pygments_lexer": "ipython3",
   "version": "3.7.7"
  }
 },
 "nbformat": 4,
 "nbformat_minor": 4
}
